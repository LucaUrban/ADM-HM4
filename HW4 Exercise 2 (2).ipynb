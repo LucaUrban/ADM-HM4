{
 "cells": [
  {
   "cell_type": "markdown",
   "metadata": {},
   "source": [
    "# HW4 ADM EX 2"
   ]
  },
  {
   "cell_type": "markdown",
   "metadata": {},
   "source": [
    "The counting sort counts the number of objects that have different keys. Let us see how we can implement a program based on this technique."
   ]
  },
  {
   "cell_type": "markdown",
   "metadata": {},
   "source": [
    "# 1) The implementation of the algorithm"
   ]
  },
  {
   "cell_type": "markdown",
   "metadata": {},
   "source": [
    "### As we deal with characters, we considered their unicode value. \n",
    "\n",
    "The *ord* function will enable us to get the encoded version of the character. First, we got the maximum ASCII value in the input list."
   ]
  },
  {
   "cell_type": "markdown",
   "metadata": {},
   "source": [
    "We used the following Youtube video to understand how this algorithm works : https://www.youtube.com/watch?v=LoNoeNiTZHI.\n",
    "We also used ideas thanks to the link you wrote on the README.md (https://www.hackerearth.com/fr/practice/algorithms/sorting/counting-sort/tutorial/). We still wrote our own programs."
   ]
  },
  {
   "cell_type": "code",
   "execution_count": 2,
   "metadata": {},
   "outputs": [],
   "source": [
    "def CountingSort(L, maxi): \n",
    "\n",
    "    n = maxi\n",
    "    \n",
    "    orderedascii = [0]*(n+1) # We initialize the ordered list\n",
    "    \n",
    "    index = [\"0\"]*(n+1) # This list will be useful for part 3, in order to retrieve the initial position of each letter in a list of words\n",
    "    \n",
    "    count = [0]*(n+1) # We initialize the count list\n",
    "    \n",
    "   \n",
    "    for k in range(len(L)): \n",
    "        count[L[k]] += 1\n",
    "\n",
    "    for k in range(n+1):\n",
    "        if k == 0:\n",
    "            count[k] = count[k]\n",
    "        else:\n",
    "            count[k] += count[k-1] \n",
    "\n",
    "    for k in range(len(L)): \n",
    "        orderedascii[count[L[k]]-1] = chr(L[k])\n",
    "        index[count[L[k]]-1] = k\n",
    "        # As specified in the video, I used the rule according to which we have to substract one to the list \"count\" at the index of the ascii version of each string\n",
    "        count[L[k]] = count[L[k]] - 1\n",
    "    \n",
    "        \n",
    "    orderedstring = list(filter(lambda a: a != 0, orderedascii))\n",
    "\n",
    "    index = list(filter(lambda a: a != \"0\", index))\n",
    "    \n",
    "    return(orderedstring,index)\n",
    "\n",
    "# We return the index for the 3rd part of this exercise"
   ]
  },
  {
   "cell_type": "markdown",
   "metadata": {},
   "source": [
    "As you can see, the program sorts the input list and gives the ordered version of it as an output. We can also underline that the uppercase and lowercase are considered as different characters.\n",
    "\n",
    "Indeed, the ASCII alphabet gives a number (a kind of ID) to each letters but also to the numbers and some special characters."
   ]
  },
  {
   "cell_type": "markdown",
   "metadata": {},
   "source": [
    "# 2)  Alphabetical sort"
   ]
  },
  {
   "cell_type": "markdown",
   "metadata": {},
   "source": [
    "The creation of this program is not that hard : he just have to get the maximum of the unicode ID of each letter and figure out the maximum. After that, we can use the function created above to get our sorted alphabet."
   ]
  },
  {
   "cell_type": "markdown",
   "metadata": {},
   "source": [
    "To enable an accurate sorting (in particular for part 3 of this exercise), we decided to sort regarding the lower case version of each word !"
   ]
  },
  {
   "cell_type": "code",
   "execution_count": 3,
   "metadata": {},
   "outputs": [
    {
     "name": "stdout",
     "output_type": "stream",
     "text": [
      "['a', 'b', 'c', 'd', 'e', 'f', 'g', 'h', 'i', 'j', 'k', 'l', 'm', 'n', 'o', 'p', 'q', 'r', 's', 't', 'u', 'v', 'w', 'x', 'y', 'z']\n"
     ]
    }
   ],
   "source": [
    "def AlphabeticalSort(letters):\n",
    "    \n",
    "    av = [ord(i.lower()) for i in letters if type(i) == str] # This is the ASCII version of the input list\n",
    "\n",
    "    n = max(av)\n",
    "    \n",
    "    return(CountingSort(av,n))\n",
    "\n",
    "\n",
    "alphabetunordered = [\"n\",\"b\",\"v\",\"c\",\"x\",\"w\",\"m\",\"l\",\"k\",\"j\",\"h\",\"g\",\"f\",\"d\",\"s\",\"q\",\"p\",\"o\",\"i\",\"u\",\"y\",\"t\",\"r\",\"e\",\"z\",\"a\"]\n",
    "\n",
    "print(AlphabeticalSort(alphabetunordered)[0])"
   ]
  },
  {
   "cell_type": "markdown",
   "metadata": {},
   "source": [
    "In this function, we just enter the list of letters we want to order. The program gets the **unicode indices** of these characters and determines the maximum amongst them. After retrieving this piece of information, we use it as the second parameter of the function *CountingSort*, alongside the original list."
   ]
  },
  {
   "cell_type": "markdown",
   "metadata": {},
   "source": [
    "#### We can also verify that, by repeating several characters , the sorting still works."
   ]
  },
  {
   "cell_type": "code",
   "execution_count": 4,
   "metadata": {},
   "outputs": [
    {
     "name": "stdout",
     "output_type": "stream",
     "text": [
      "['a', 'a', 'b', 'b', 'b', 'c', 'd', 'e', 'f', 'g', 'h', 'i', 'j', 'k', 'l', 'm', 'n', 'o', 'p', 'q', 'r', 's', 't', 'u', 'v', 'w', 'x', 'y', 'z']\n"
     ]
    }
   ],
   "source": [
    "alphabetunordered2 = [\"n\",\"a\",\"b\",\"b\",\"b\",\"v\",\"c\",\"x\",\"w\",\"m\",\"l\",\"k\",\"j\",\"h\",\"g\",\"f\",\"d\",\"s\",\"q\",\"p\",\"o\",\"i\",\"u\",\"y\",\"t\",\"r\",\"e\",\"z\",\"a\"]\n",
    "\n",
    "print(AlphabeticalSort(alphabetunordered2)[0])"
   ]
  },
  {
   "cell_type": "markdown",
   "metadata": {},
   "source": [
    "It works as we wanted, with 'a' repeating two times and 'b' three times."
   ]
  },
  {
   "cell_type": "markdown",
   "metadata": {},
   "source": [
    "## Complexity :\n",
    "\n",
    "This program is interesting since it enable us to sort letters (or number) with **linear** complexity.\n",
    "Indeed, if we think about it theoretically, we only use \"for loops\", that go until the maximum of the ASCII values of the input list, and other loops that go over the items of the input list. We must note that the counting sort is usually used to sort lists of numbers. Since we are considering **characters**, it is normal that we get a maximum (the range) that is quite big.\n",
    "\n",
    "Practically, we have :\n",
    "\n",
    "- In the CountingSort function :\n",
    "    - 3 for loops that goes until the length of the input\n",
    "    - 1 for loop that goes until the maximum of the ASCII indices of the items in the input list\n",
    "    - 13 fast operations (like additions or comparison)\n",
    "\n",
    "- In the AlphabeticalSort function :\n",
    "    - The complexity of the CountingSort function\n",
    "    - 1 loop over the values of the input list\n",
    "    - 1 operation with a built-in function (max)\n",
    "\n",
    "We then have a complexity equal to :\n",
    "\n",
    "$ complexity $ = $ 10 + 4*len(input) + complexity(built in function \"max\") + maximum(ASCII values) $\n",
    "\n",
    "We have $ complexity(built in function \"max\") = len(input)$ since it goes over all the values of the input.\n",
    "\n",
    "If we write $ n = len(input) $ and $ k = maximum(ASCII values) $ and apply the $O$ method, we get :\n",
    "\n",
    "\n",
    "### $ Complexity = O(5*n+k) = O(n+k) = O(n) $\n",
    "\n",
    "\n",
    "All in all, we can say that Counting Sort is almost as fast as the *sorted()* method of python, since it has a linear complexity."
   ]
  },
  {
   "cell_type": "markdown",
   "metadata": {},
   "source": [
    "# 3) Generalized sorting : list of words"
   ]
  },
  {
   "cell_type": "markdown",
   "metadata": {},
   "source": [
    "In this part, the sorting gets more tricky. Indeed, we have to sort words regarding the alphabet but also be careful if some words several first letters in common. Let us define a strategy to deal with all the cases."
   ]
  },
  {
   "cell_type": "markdown",
   "metadata": {},
   "source": [
    "#### As mentioned in the instructions, we have to deal with the white spaces (first policy on the Wikipedia page). \n",
    "\n",
    "Example : \"ADM\" will be put before \"ADM HW4\"."
   ]
  },
  {
   "cell_type": "code",
   "execution_count": 5,
   "metadata": {},
   "outputs": [
    {
     "name": "stdout",
     "output_type": "stream",
     "text": [
      "['Oak', 'Oak Hill', 'Oak Ridge', 'Oakley Park', 'Oakley River']\n"
     ]
    }
   ],
   "source": [
    "L = [\"A\",\"Amma\",\"Aza\",\"Anq\",\"Padrema\",'Padre ta',\"Mauro Icardi\",\"Ama mama\", \"1\", \"Meazza\",'Mauro','Padre']\n",
    "m = [\"Oak\", \"Oak Hill\", \"Oak Ridge\", \"Oakley Park\", \"Oakley River\"]\n",
    "n = [\"av\",\"za\",\"pa\"]\n",
    "\n",
    "\n",
    "def preprocess(liste):\n",
    "    return([item.lower() for item in liste])\n",
    "\n",
    "\n",
    "def sortingwords(l):\n",
    "    \n",
    "    if len(l) < 2: # If the list has only one element, we directly return it\n",
    "        return l\n",
    "    \n",
    "    elif all(len(set([l[j][0] for j in range(len(l))]))==len(l) for j in range(len(l))): # If we only have different first letters, we can directly apply the AlphabeticalSort\n",
    "        \n",
    "        first = [l[j][0] for j in range(len(l))]\n",
    "        \n",
    "        return([l[i] for i in AlphabeticalSort(first)[1]])\n",
    "    \n",
    "    \n",
    "    array = preprocess(l) # We preprocess the words to have them with the first letter capitalized\n",
    "    \n",
    "    head, *tail = array # We divide the liste into two parts : a first word and a list of the other words we are going to compare to the first one\n",
    "    head1, *tail1 = l\n",
    "    \n",
    "    sort1 = []\n",
    "    sort2 = []\n",
    "    for k in range(len(tail)): # We go over each word in tail to apply the alphabetical sorting on its letter, in comparison with the letters of the head\n",
    "        \n",
    "        i = 0\n",
    "        if tail[k][0] == head[i] and len(tail[k]) > 1:\n",
    "            while i<len(tail[k])-1 and i<len(head)-1 and tail[k][i] == head[i]: # While the letters of the head are the same as the ones of the tail, we don't sort the two words\n",
    "                i+=1\n",
    "                \n",
    "        # The following two conditions handle the multiwords cases (if we meet a whitespace)\n",
    "        \n",
    "        if i == len(tail[k])-1 and i != len(head)-1: # Example : if we have tail = \"ADM\" and head = \"ADM Course\", tail will be put before head\n",
    "            sort1.append(tail1[k])\n",
    "        elif i == len(head)-1 and i != len(tail[k])-1: # Example : if we have head = \"ADM\" and tail = \"ADM HW4\", tail will be put after head\n",
    "            sort2.append(tail1[k])\n",
    "            \n",
    "            \n",
    "        # In the other cases, we can simply apply the AlphabeticalSort function to sort the words ! \n",
    "        \n",
    "        else: \n",
    "            tosort = [tail[k][i],head[i]]\n",
    "            \n",
    "            \n",
    "            ind = AlphabeticalSort(tosort)[1] # We sort two words according on the first letter they don't have in common (If we don't exceed the length of one of the two words before)\n",
    "            \n",
    "            sortedl = [tosort[u] for u in ind]\n",
    "            if tosort == sortedl :\n",
    "                sort1.append(tail1[k]) # If the two words haven't switched places after applying the counting sort, it means that they are already sorted\n",
    "            else:\n",
    "                sort2.append(tail1[k]) # Otherwise, we switch their positions\n",
    "\n",
    "    less = sortingwords(sort1)\n",
    "    more = sortingwords(sort2)\n",
    "    return less + [head1] + more # We return the ordered list of words \n",
    "\n",
    "print(sortingwords(m))"
   ]
  },
  {
   "cell_type": "markdown",
   "metadata": {},
   "source": [
    "As we can see, the sorting is the same as in the Wikipedia page, considering the first policy mentioned for multiwords.\n",
    "\n",
    "The general principle is that we take one element from the list of words and sort it in comparision with all the other words. Once we get that there is only one element at the left or the right of an element, we got the final position of it. We do the same process for all the items in the input list."
   ]
  },
  {
   "cell_type": "markdown",
   "metadata": {},
   "source": [
    "The following block of code will enable us to test the code for different examples of lists. **Please note that it also works for numbers. Still, the instructions only asked for letters so we will stick to them for the examples.**"
   ]
  },
  {
   "cell_type": "code",
   "execution_count": 6,
   "metadata": {},
   "outputs": [
    {
     "name": "stdout",
     "output_type": "stream",
     "text": [
      "Please enter 7 words separated by a comma\n",
      "Mahdi,Luca,Giorgio,adm,ADM HWA,ADM HWB,Luca Giorgio\n",
      "['adm', 'ADM HWA', 'ADM HWB', 'Giorgio', 'Luca', 'Luca Giorgio', 'Mahdi']\n"
     ]
    }
   ],
   "source": [
    "m = 7\n",
    "print(\"Please enter \"+str(m)+\" words separated by a comma\")\n",
    "inp = input()\n",
    "inputlist = inp.split(\",\")\n",
    "\n",
    "print(sortingwords(inputlist))"
   ]
  },
  {
   "cell_type": "markdown",
   "metadata": {},
   "source": [
    "### Now that we created and explained the algorithm, let us explore its complexity, from a theoretical and practical point of view."
   ]
  },
  {
   "cell_type": "markdown",
   "metadata": {},
   "source": [
    "## Complexity"
   ]
  },
  {
   "cell_type": "markdown",
   "metadata": {},
   "source": [
    "### Theoretically :\n",
    "\n",
    "To sort words, we have to check the similarity between words by looking at their common letters. While they are equal, we keep going. Once a different letter is found, we can sort them. The complexity seems logically much greater than the one of the alphabetical sort. Since we had a **linear complexity** before, we already know that it won't be linear but at least **polynomial**. \n",
    "\n",
    "Indeed, by checking each letter of a given word, we go over the range of two \"lists\" (the list of words and the list of letters of a given word). Theoretically, the complexity would be the smallest if our list only words with **different** first letters. We would only have to sort them on their first letters and the complexity would be the same as the one of the alphabetical sort.\n",
    "\n",
    "\n",
    "### Practically :\n",
    "\n",
    "Here, we managed to sort the words by implementing a **recursive** function. It calls itself many times (at least 2 times in the best case, 2*len(liste) in the worst case). Let m be the length of the list and n the maximum length of a word.\n",
    "\n",
    "\n",
    "- In the best case : the list only has words with distinct first letters. We can directly apply the AlphabeticalSort algorithm. The complexity becomes :\n",
    "\n",
    "$ Complexity = Complexity(AlphabeticalSort) + 3*len(liste) + 2 comparisons = Complexity(AlphabeticalSort) + 3*m + 2 = O(n+k+m) = O(n+m) $\n",
    "\n",
    "\n",
    "- In the worst case : ALL the first letters are the same and, if the number of words is even, each pair of words has the same letters (until the last letter of the smallest word between the two ones). In the algorithm, we indent a number **i** while the two words have the same letters. In this worst case, we consider that this i reaches the last index of the last element of head or tail. If we consider k = length of the word considered as the \"head\", we would have a complexity of :\n",
    "\n",
    "$ Complexity = m*(Complexity(AlphabeticalSort) + u) + Complexity(sortingwords(leftlist)) + Complexity(sortingwords(rightlist)) + 20 operations $ (with comparisons, append operations...)   \n",
    "\n",
    "with u the index of the letter in a word until which we match the letters of the other word. Please note that u <= len(word) <= n. In the worst case, u = n. Hence, we can write that the complexity is approximately :\n",
    "\n",
    "$ Complexity = O(n*m+k) = O(m*n) $\n",
    "            "
   ]
  },
  {
   "cell_type": "markdown",
   "metadata": {},
   "source": [
    "We can then see that the complexity can be polynomial (but can also be lower in an easier case, where all the first letters of the list are different).\n",
    "\n",
    "In conclusion, we can say that the complexity of this algorithm is close to the one of the built-in function of python, sorted, even in the worst case."
   ]
  }
 ],
 "metadata": {
  "kernelspec": {
   "display_name": "Python 3",
   "language": "python",
   "name": "python3"
  },
  "language_info": {
   "codemirror_mode": {
    "name": "ipython",
    "version": 3
   },
   "file_extension": ".py",
   "mimetype": "text/x-python",
   "name": "python",
   "nbconvert_exporter": "python",
   "pygments_lexer": "ipython3",
   "version": "3.7.1"
  }
 },
 "nbformat": 4,
 "nbformat_minor": 2
}
