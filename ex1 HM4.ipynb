{
 "cells": [
  {
   "cell_type": "markdown",
   "metadata": {},
   "source": [
    "# First Exercise"
   ]
  },
  {
   "cell_type": "markdown",
   "metadata": {},
   "source": [
    "I calculated the posterior probability with this way. First of all we have to consider that a false positive occurs when all the hashing functions returns a value that is set to true into the bloom filter and this value is **k**, second, all the events H_i = {the i-th hashing function returns a value that is set to true into the BloomFilter} are independent. So the P(A|B) = P(A and B)/P(B) = P(A) = P(H_1 and H_2) = P(H_1) * P(H_2) =  Ber(p) where: A = {false positive}, B = {the password isn't contained into the first set} = omega **p = |variables set to true| / #lenght of the bloomFilter**"
   ]
  },
  {
   "cell_type": "code",
   "execution_count": 1,
   "metadata": {},
   "outputs": [
    {
     "name": "stdout",
     "output_type": "stream",
     "text": [
      "Number of hash function used:  4\n",
      "Number of duplicates detected:  3858137\n",
      "Probability of false positives previous the creation of the bloom filter: 3.5575%\n",
      "Probability of false positives after the creation of the bloom filter: 0.0%\n",
      "Execution time:  2032.940449476242\n"
     ]
    }
   ],
   "source": [
    "import time\n",
    "import numpy as np\n",
    "\n",
    "def hashFun1(s, bloomLen):\n",
    "    res = 1\n",
    "    for i in range(len(s)):\n",
    "        res *= int(ord(s[i]) / (i+2))\n",
    "    return res % bloomLen\n",
    "\n",
    "def hashFun2(s, bloomLen):\n",
    "    res = 1\n",
    "    for i in range(int(len(s)/2)):\n",
    "        res *= int(ord(s[i]) / (i+1))\n",
    "    return res % bloomLen\n",
    "\n",
    "def hashFun3(s, bloomLen):\n",
    "    res = 1\n",
    "    for i in range(int(len(s)/3)):\n",
    "        res *= int(ord(s[i]) / (i+1))\n",
    "    return res % bloomLen\n",
    "\n",
    "def hashFun4(s, bloomLen):\n",
    "    res = 1\n",
    "    for i in range(int(len(s)/4)):\n",
    "        res *= int(ord(s[i]) / (i+1))\n",
    "    return res % bloomLen\n",
    "\n",
    "def initBloomFilter(bloomLen, path):\n",
    "    bloomFil = [False for i in range(bloomLen)]\n",
    "    bloomFil = np.array(bloomFil)\n",
    "    fPass1 = open(path, \"r\", encoding=\"utf-8\")\n",
    "    for i in range(100000000):\n",
    "        password = fPass1.readline()[:20]\n",
    "        h1 = hashFun1(password, bloomLen); h2 = hashFun2(password, bloomLen)\n",
    "        h3 = hashFun3(password, bloomLen); h4 = hashFun4(password, bloomLen)\n",
    "\n",
    "        # changes the values according the values returned by the hashing functions\n",
    "        bloomFil[h1] = True; bloomFil[h2] = True; bloomFil[h3] = True; bloomFil[h4] = True\n",
    "    fPass1.close()\n",
    "    return bloomFil\n",
    "    \n",
    "\n",
    "def passCheck(path, bloomLen, bloomFil):\n",
    "    n = 0\n",
    "    fPass2 = open(path, \"r\", encoding=\"utf-8\")\n",
    "    for i in range(3900000):\n",
    "        password = fPass2.readline()[:20]\n",
    "        h1 = hashFun1(password, bloomLen); h2 = hashFun2(password, bloomLen)\n",
    "        h3 = hashFun3(password, bloomLen); h4 = hashFun4(password, bloomLen)\n",
    "        if bloomFil[h1] == True and bloomFil[h2] == True and bloomFil[h3] == True and bloomFil[h4] == True:\n",
    "            n += 1\n",
    "    fPass2.close()\n",
    "    return n\n",
    "\n",
    "# initialisation of variables, I choose 70000000 as the lenght of the bloom filter because to have a prior probability of \n",
    "# almost 3% i have to do 4 hashing functions and a vector of that size\n",
    "k = 4; bloomLen = 700000000\n",
    "\n",
    "start = time.time()\n",
    "# inizialises the bloomFilter array of bit values\n",
    "blFilter = initBloomFilter(bloomLen, \"C:\\\\Users\\\\asus\\\\Desktop\\\\Algoritmic methods for data science\\\\ADM-HM4\\\\passwords1.txt\")\n",
    "\n",
    "# check all passwords2 presence in the filter\n",
    "n = passCheck(\"C:\\\\Users\\\\asus\\\\Desktop\\\\Algoritmic methods for data science\\\\ADM-HM4\\\\passwords2.txt\", bloomLen, blFilter)\n",
    "\n",
    "# calculating the prior and posterior probability of false positive\n",
    "pPr = ((1 - (1/2.71) ** ((k * 100000000) / bloomLen)) ** k)\n",
    "numTrue = 0\n",
    "for i in range(len(blFilter)):\n",
    "    if blFilter[i] == True:\n",
    "        numTrue += 1\n",
    "pPos = (numTrue/bloomLen) ** k\n",
    "\n",
    "end = time.time()\n",
    "\n",
    "print('Number of hash function used: ', k)\n",
    "print('Number of duplicates detected: ', n)\n",
    "print('Probability of false positives previous the creation of the bloom filter: ' + str(round(pPr * 100, 7)) + \"%\")\n",
    "print('Probability of false positives after the creation of the bloom filter: ' + str(round(pPos * 100, 7)) + \"%\")\n",
    "print('Execution time: ', end-start)"
   ]
  },
  {
   "cell_type": "markdown",
   "metadata": {},
   "source": [
    "### Bonus Part"
   ]
  },
  {
   "cell_type": "markdown",
   "metadata": {},
   "source": [
    "To calculate the effective number of the false positive we have to find the passwords that are effectively into the second dataset and then we have to subtract the number we have find previously with the number we have found in this step. "
   ]
  },
  {
   "cell_type": "code",
   "execution_count": null,
   "metadata": {},
   "outputs": [],
   "source": [
    "# initialize variables and opens files\n",
    "numEff = 0\n",
    "fPass1 = open(\"C:\\\\Users\\\\asus\\\\Desktop\\\\Algoritmic methods for data science\\\\ADM-HM4\\\\passwords1.txt\", \"r\", encoding=\"utf-8\")\n",
    "fPass2 = open(\"C:\\\\Users\\\\asus\\\\Desktop\\\\Algoritmic methods for data science\\\\ADM-HM4\\\\passwords2.txt\", \"r\", encoding=\"utf-8\")\n",
    "\n",
    "start = time.time()\n",
    "# check all passwords2 presence in the passwords1\n",
    "for i in range(3900000):\n",
    "    passwordCheck = fPass2.readline()[:20]\n",
    "    \n",
    "    for i in range(100000000):\n",
    "        password = fPass1.readline()[:20]\n",
    "        if passwordCheck == password:\n",
    "            numEff += 1\n",
    "            break\n",
    "    fPass1.close()\n",
    "    fPass1 = open(\"C:\\\\Users\\\\asus\\\\Desktop\\\\Algoritmic methods for data science\\\\ADM-HM4\\\\passwords2.txt\", \"r\", encoding=\"utf-8\")\n",
    "end = time.time()\n",
    "\n",
    "print(\"Number of false positives: \", n-numEff)\n",
    "print('Execution time: ', end-start)"
   ]
  }
 ],
 "metadata": {
  "kernelspec": {
   "display_name": "Python 3",
   "language": "python",
   "name": "python3"
  },
  "language_info": {
   "codemirror_mode": {
    "name": "ipython",
    "version": 3
   },
   "file_extension": ".py",
   "mimetype": "text/x-python",
   "name": "python",
   "nbconvert_exporter": "python",
   "pygments_lexer": "ipython3",
   "version": "3.7.3"
  }
 },
 "nbformat": 4,
 "nbformat_minor": 2
}
