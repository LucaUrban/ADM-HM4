{
 "cells": [
  {
   "cell_type": "markdown",
   "metadata": {},
   "source": [
    "# First Exercise"
   ]
  },
  {
   "cell_type": "markdown",
   "metadata": {},
   "source": [
    "I calculated the posterior probability with this way. First of all we have to consider that a false positive occurs when all the hashing functions returns a value that is set to true into the bloom filter and this value is **k**, second, all the events H_i = {the i-th hashing function returns a value that is set to true into the BloomFilter} are independent. So the P(A|B) = P(A and B)/P(B) = P(A) = P(H_1 and H_2) = P(H_1) * P(H_2) =  Ber(p) where: A = {false positive}, B = {the password isn't contained into the first set} = omega **p = |variables set to true| / #lenght of the bloomFilter**"
   ]
  },
  {
   "cell_type": "code",
   "execution_count": 5,
   "metadata": {},
   "outputs": [
    {
     "name": "stdout",
     "output_type": "stream",
     "text": [
      "Number of hash function used:  2\n",
      "Number of duplicates detected:  3744702\n",
      "Probability of false positives previous the creation of the bloom filter: 1.3728%\n",
      "Probability of false positives after the creation of the bloom filter: 0.00457%\n",
      "Execution time:  136.07622694969177\n"
     ]
    }
   ],
   "source": [
    "import time\n",
    "\n",
    "def hashFun1(s, bloomLen):\n",
    "    res = 1\n",
    "    for i in range(len(s)):\n",
    "        res *= int(ord(s[i]) / (i+2))\n",
    "    return res % bloomLen\n",
    "\n",
    "def hashFun2(s, bloomLen):\n",
    "    res = 1\n",
    "    for i in range(int(len(s)/2)):\n",
    "        res *= int(ord(s[i]) / (i+1))\n",
    "    return res % bloomLen\n",
    "\n",
    "def initBloomFilter(bloomLen, path):\n",
    "    bloomFil = [False for i in range(bloomLen)]\n",
    "    fPass1 = open(path, \"r\", encoding=\"utf-8\")\n",
    "    for i in range(10000000):\n",
    "        password = fPass1.readline()[:20]\n",
    "        h1 = hashFun1(password, bloomLen); h2 = hashFun2(password, bloomLen)\n",
    "\n",
    "        # changes the values according the values returned by the hashing functions\n",
    "        if bloomFil[h1] == False: bloomFil[h1] = True\n",
    "        if bloomFil[h2] == False: bloomFil[h2] = True\n",
    "    fPass1.close()\n",
    "    return bloomFil\n",
    "    \n",
    "\n",
    "def passCheck(path, bloomLen, bloomFil):\n",
    "    n = 0\n",
    "    fPass2 = open(path, \"r\", encoding=\"utf-8\")\n",
    "    for i in range(3900000):\n",
    "        password = fPass2.readline()[:20]\n",
    "        h1 = hashFun1(password, bloomLen); h2 = hashFun2(password, bloomLen)\n",
    "        if bloomFil[h1] == True and bloomFil[h2] == True:\n",
    "            n += 1\n",
    "    fPass2.close()\n",
    "    return n\n",
    "\n",
    "# initialisation of variables, I choose 15000000 as the lenght of the bloom filter because to have a prior probability of \n",
    "# almost 0.05% i have to do 5 hashing functions and a vector of that size\n",
    "k = 2; bloomLen = 160000000\n",
    "\n",
    "start = time.time()\n",
    "# inizialises the bloomFilter array of bit values\n",
    "blFilter = initBloomFilter(bloomLen, \"C:\\\\Users\\\\asus\\\\Desktop\\\\Algoritmic methods for data science\\\\ADM-HM4\\\\passwords1.txt\")\n",
    "\n",
    "# check all passwords2 presence in the filter\n",
    "n = passCheck(\"C:\\\\Users\\\\asus\\\\Desktop\\\\Algoritmic methods for data science\\\\ADM-HM4\\\\passwords2.txt\", bloomLen, blFilter)\n",
    "\n",
    "# calculating the prior and posterior probability of false positive\n",
    "pPr = ((1 - (1/2.71) ** ((k * 10000000) / bloomLen)) ** k)\n",
    "numTrue = 0\n",
    "for i in range(len(blFilter)):\n",
    "    if blFilter[i] == True:\n",
    "        numTrue += 1\n",
    "pPos = (numTrue/bloomLen) ** k\n",
    "\n",
    "end = time.time()\n",
    "\n",
    "print('Number of hash function used: ', k)\n",
    "print('Number of duplicates detected: ', n)\n",
    "print('Probability of false positives previous the creation of the bloom filter: ' + str(round(pPr * 100, 5)) + \"%\")\n",
    "print('Probability of false positives after the creation of the bloom filter: ' + str(round(pPos * 100, 5)) + \"%\")\n",
    "print('Execution time: ', end-start)"
   ]
  },
  {
   "cell_type": "markdown",
   "metadata": {},
   "source": [
    "### Bonus Part"
   ]
  },
  {
   "cell_type": "markdown",
   "metadata": {},
   "source": [
    "To calculate the effective number of the false positive we have to find the passwords that are effectively into the second dataset and then we have to subtract the number we have find previously with the number we have found in this step. "
   ]
  },
  {
   "cell_type": "code",
   "execution_count": 18,
   "metadata": {},
   "outputs": [
    {
     "ename": "KeyboardInterrupt",
     "evalue": "",
     "output_type": "error",
     "traceback": [
      "\u001b[1;31m---------------------------------------------------------------------------\u001b[0m",
      "\u001b[1;31mKeyboardInterrupt\u001b[0m                         Traceback (most recent call last)",
      "\u001b[1;32m<ipython-input-18-ea6f42e90176>\u001b[0m in \u001b[0;36m<module>\u001b[1;34m\u001b[0m\n\u001b[0;32m     10\u001b[0m \u001b[1;33m\u001b[0m\u001b[0m\n\u001b[0;32m     11\u001b[0m     \u001b[1;32mfor\u001b[0m \u001b[0mi\u001b[0m \u001b[1;32min\u001b[0m \u001b[0mrange\u001b[0m\u001b[1;33m(\u001b[0m\u001b[1;36m10000000\u001b[0m\u001b[1;33m)\u001b[0m\u001b[1;33m:\u001b[0m\u001b[1;33m\u001b[0m\u001b[1;33m\u001b[0m\u001b[0m\n\u001b[1;32m---> 12\u001b[1;33m         \u001b[0mpassword\u001b[0m \u001b[1;33m=\u001b[0m \u001b[0mfPass1\u001b[0m\u001b[1;33m.\u001b[0m\u001b[0mreadline\u001b[0m\u001b[1;33m(\u001b[0m\u001b[1;33m)\u001b[0m\u001b[1;33m[\u001b[0m\u001b[1;33m:\u001b[0m\u001b[1;36m20\u001b[0m\u001b[1;33m]\u001b[0m\u001b[1;33m\u001b[0m\u001b[1;33m\u001b[0m\u001b[0m\n\u001b[0m\u001b[0;32m     13\u001b[0m         \u001b[1;32mif\u001b[0m \u001b[0mpasswordCheck\u001b[0m \u001b[1;33m==\u001b[0m \u001b[0mpassword\u001b[0m\u001b[1;33m:\u001b[0m\u001b[1;33m\u001b[0m\u001b[1;33m\u001b[0m\u001b[0m\n\u001b[0;32m     14\u001b[0m             \u001b[0mnumEff\u001b[0m \u001b[1;33m+=\u001b[0m \u001b[1;36m1\u001b[0m\u001b[1;33m\u001b[0m\u001b[1;33m\u001b[0m\u001b[0m\n",
      "\u001b[1;32m~\\Anaconda3\\lib\\codecs.py\u001b[0m in \u001b[0;36mdecode\u001b[1;34m(self, input, final)\u001b[0m\n\u001b[0;32m    317\u001b[0m         \u001b[1;32mraise\u001b[0m \u001b[0mNotImplementedError\u001b[0m\u001b[1;33m\u001b[0m\u001b[1;33m\u001b[0m\u001b[0m\n\u001b[0;32m    318\u001b[0m \u001b[1;33m\u001b[0m\u001b[0m\n\u001b[1;32m--> 319\u001b[1;33m     \u001b[1;32mdef\u001b[0m \u001b[0mdecode\u001b[0m\u001b[1;33m(\u001b[0m\u001b[0mself\u001b[0m\u001b[1;33m,\u001b[0m \u001b[0minput\u001b[0m\u001b[1;33m,\u001b[0m \u001b[0mfinal\u001b[0m\u001b[1;33m=\u001b[0m\u001b[1;32mFalse\u001b[0m\u001b[1;33m)\u001b[0m\u001b[1;33m:\u001b[0m\u001b[1;33m\u001b[0m\u001b[1;33m\u001b[0m\u001b[0m\n\u001b[0m\u001b[0;32m    320\u001b[0m         \u001b[1;31m# decode input (taking the buffer into account)\u001b[0m\u001b[1;33m\u001b[0m\u001b[1;33m\u001b[0m\u001b[1;33m\u001b[0m\u001b[0m\n\u001b[0;32m    321\u001b[0m         \u001b[0mdata\u001b[0m \u001b[1;33m=\u001b[0m \u001b[0mself\u001b[0m\u001b[1;33m.\u001b[0m\u001b[0mbuffer\u001b[0m \u001b[1;33m+\u001b[0m \u001b[0minput\u001b[0m\u001b[1;33m\u001b[0m\u001b[1;33m\u001b[0m\u001b[0m\n",
      "\u001b[1;31mKeyboardInterrupt\u001b[0m: "
     ]
    }
   ],
   "source": [
    "# initialize variables and opens files\n",
    "numEff = 0\n",
    "fPass1 = open(\"C:\\\\Users\\\\asus\\\\Desktop\\\\Algoritmic methods for data science\\\\ADM-HM4\\\\passwords1.txt\", \"r\", encoding=\"utf-8\")\n",
    "fPass2 = open(\"C:\\\\Users\\\\asus\\\\Desktop\\\\Algoritmic methods for data science\\\\ADM-HM4\\\\passwords2.txt\", \"r\", encoding=\"utf-8\")\n",
    "\n",
    "start = time.time()\n",
    "# check all passwords2 presence in the passwords1\n",
    "for i in range(3900000):\n",
    "    passwordCheck = fPass2.readline()[:20]\n",
    "    \n",
    "    for i in range(10000000):\n",
    "        password = fPass1.readline()[:20]\n",
    "        if passwordCheck == password:\n",
    "            numEff += 1\n",
    "            break\n",
    "    fPass1.close()\n",
    "    fPass1 = open(\"C:\\\\Users\\\\asus\\\\Desktop\\\\Algoritmic methods for data science\\\\ADM-HM4\\\\passwords2.txt\", \"r\", encoding=\"utf-8\")\n",
    "end = time.time()\n",
    "\n",
    "print(\"Number of false positives: \", n-numEff)\n",
    "print('Execution time: ', end-start)"
   ]
  }
 ],
 "metadata": {
  "kernelspec": {
   "display_name": "Python 3",
   "language": "python",
   "name": "python3"
  },
  "language_info": {
   "codemirror_mode": {
    "name": "ipython",
    "version": 3
   },
   "file_extension": ".py",
   "mimetype": "text/x-python",
   "name": "python",
   "nbconvert_exporter": "python",
   "pygments_lexer": "ipython3",
   "version": "3.7.3"
  }
 },
 "nbformat": 4,
 "nbformat_minor": 2
}
