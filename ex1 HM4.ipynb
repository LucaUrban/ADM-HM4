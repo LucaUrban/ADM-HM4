{
 "cells": [
  {
   "cell_type": "markdown",
   "metadata": {},
   "source": [
    "# First Exercise"
   ]
  },
  {
   "cell_type": "markdown",
   "metadata": {},
   "source": [
    "I calculated the posterior probability with this way. First of all we have to consider that a false positive occurs when all the hashing functions returns a value that is set to true into the bloom filter and this value is **k**, second, all the events H_i = {the i-th hashing function returns a value that is set to true into the BloomFilter} are independent. So the P(A|B) = P(A and B)/P(B) = P(A) = P(H_1 and H_2) = P(H_1) * P(H_2) =  Ber(p) where: A = {false positive}, B = {the password isn't contained into the first set} = omega **p = |variables set to true| / #lenght of the bloomFilter array**"
   ]
  },
  {
   "cell_type": "code",
   "execution_count": 1,
   "metadata": {},
   "outputs": [
    {
     "name": "stdout",
     "output_type": "stream",
     "text": [
      "Number of hash function used:  5\n",
      "Number of duplicates detected:  1561326\n",
      "Probability of false positives previous the creation of the bloom filter: 3.0382899%\n",
      "Probability of false positives after the creation of the bloom filter: 0.1086364%\n",
      "Execution time:  2908.527927875519\n"
     ]
    }
   ],
   "source": [
    "import time\n",
    "import numpy as np\n",
    "\n",
    "def hashFun1(s, bloomLen):\n",
    "    res = 1\n",
    "    for i in range(len(s)):\n",
    "        res *= int(ord(s[i]) / (i+2))\n",
    "    return res % bloomLen\n",
    "\n",
    "def hashFun2(s, bloomLen):\n",
    "    res = 1\n",
    "    for i in range(int(len(s)/2)):\n",
    "        res *= int(ord(s[i]) / (i+1))\n",
    "    return res % bloomLen\n",
    "\n",
    "def hashFun3(s, bloomLen):\n",
    "    res = 2166136261\n",
    "    for i in range(len(s)):\n",
    "        res ^= ord(s[i]); res *= 16777619\n",
    "    return res % bloomLen\n",
    "\n",
    "def hashFun4(s, bloomLen):\n",
    "    a = b = c = 0\n",
    "    for i in range(len(s)//5):\n",
    "        if i <= 1:\n",
    "            a += ord(s[i])<<i + ord(s[i+1])<<(i+1)\n",
    "            b += ord(s[i+2])<<i + ord(s[i+3])<<(i+1)\n",
    "            c += ord(s[i+4])<<i\n",
    "        else:\n",
    "            a += ord(s[i])<<(i-1) + ord(s[i+1])<<i\n",
    "            b += ord(s[i+2])<<(i-1) + ord(s[i+3])<<i\n",
    "            c += ord(s[i+4])<<(i-1)\n",
    "    return (a+b-c) % bloomLen\n",
    "\n",
    "def hashFun5(s, bloomLen):\n",
    "    a = b = 0\n",
    "    for i in range(len(s)//4):\n",
    "        a += ord(s[i])<<(i) + ord(s[i+1])<<(i+1)\n",
    "        b += ord(s[i+2])<<(i) + ord(s[i+3])<<(i+1)\n",
    "    return (a+b) % bloomLen\n",
    "\n",
    "def initBloomFilter(bloomLen, path):\n",
    "    bloomFil = np.array([False for i in range(bloomLen)])\n",
    "    fPass1 = open(path, \"r\", encoding=\"utf-8\")\n",
    "    for i in range(100000000):\n",
    "        password = fPass1.readline()[:20]\n",
    "\n",
    "        # changes the values according the values returned by the hashing functions\n",
    "        bloomFil[hashFun1(password, bloomLen)] = True; bloomFil[hashFun2(password, bloomLen)] = True\n",
    "        bloomFil[hashFun3(password, bloomLen)] = True; bloomFil[hashFun4(password, bloomLen)] = True\n",
    "        bloomFil[hashFun5(password, bloomLen)] = True\n",
    "    fPass1.close()\n",
    "    return bloomFil\n",
    "    \n",
    "\n",
    "def passCheck(path, bloomLen, bloomFil):\n",
    "    n = 0\n",
    "    fPass2 = open(path, \"r\", encoding=\"utf-8\")\n",
    "    for i in range(3900000):\n",
    "        password = fPass2.readline()[:20]\n",
    "        h1 = hashFun1(password, bloomLen); h2 = hashFun2(password, bloomLen)\n",
    "        h3 = hashFun3(password, bloomLen); h4 = hashFun4(password, bloomLen); h5 = hashFun5(password, bloomLen)\n",
    "        if bloomFil[h1] == True and bloomFil[h2] == True and bloomFil[h3] == True and bloomFil[h4] == True and bloomFil[h5] == True:\n",
    "            n += 1\n",
    "    fPass2.close()\n",
    "    return n\n",
    "\n",
    "# initialisation of variables, I choose 725000000 as the lenght of the bloom filter because to have a prior probability of \n",
    "# about 3% i have to do 5 hashing functions and a vector of that size\n",
    "k = 5; bloomLen = 725000000\n",
    "\n",
    "start = time.time()\n",
    "# inizialises the bloomFilter array of bit values\n",
    "blFilter = initBloomFilter(bloomLen, \"C:\\\\Users\\\\asus\\\\Desktop\\\\Algoritmic methods for data science\\\\ADM-HM4\\\\passwords1.txt\")\n",
    "\n",
    "# check all passwords2 presence in the filter\n",
    "n = passCheck(\"C:\\\\Users\\\\asus\\\\Desktop\\\\Algoritmic methods for data science\\\\ADM-HM4\\\\passwords2.txt\", bloomLen, blFilter)\n",
    "\n",
    "# calculating the prior and posterior probability of false positive\n",
    "pPr = ((1 - (1/2.71) ** ((k * 100000000) / bloomLen)) ** k)\n",
    "numTrue = 0\n",
    "for i in range(len(blFilter)):\n",
    "    if blFilter[i] == True:\n",
    "        numTrue += 1\n",
    "pPos = (numTrue/bloomLen) ** k\n",
    "\n",
    "end = time.time()\n",
    "\n",
    "print('Number of hash function used: ', k)\n",
    "print('Number of duplicates detected: ', n)\n",
    "print('Probability of false positives previous the creation of the bloom filter: ' + str(round(pPr * 100, 7)) + \"%\")\n",
    "print('Probability of false positives after the creation of the bloom filter: ' + str(round(pPos * 100, 7)) + \"%\")\n",
    "print('Execution time: ', end-start)"
   ]
  }
 ],
 "metadata": {
  "kernelspec": {
   "display_name": "Python 3",
   "language": "python",
   "name": "python3"
  },
  "language_info": {
   "codemirror_mode": {
    "name": "ipython",
    "version": 3
   },
   "file_extension": ".py",
   "mimetype": "text/x-python",
   "name": "python",
   "nbconvert_exporter": "python",
   "pygments_lexer": "ipython3",
   "version": "3.7.3"
  }
 },
 "nbformat": 4,
 "nbformat_minor": 2
}
